{
 "cells": [
  {
   "cell_type": "code",
   "execution_count": 54,
   "metadata": {
    "collapsed": false
   },
   "outputs": [
    {
     "name": "stdout",
     "output_type": "stream",
     "text": [
      "Please input some word : Tom Hanks\n"
     ]
    }
   ],
   "source": [
    "import requests\n",
    "from requests_oauthlib import OAuth1\n",
    "import os, json\n",
    "from time import sleep\n",
    "\n",
    "\n",
    "url = 'https://api.twitter.com/1.1/account/verify_credentials.json'\n",
    "auth = OAuth1('CJDbbkhUJPCG6UodoypPaZjEQ', 'b2lslDRhlmoNu10fMD3cWtqgjUYLjkWe2DxFe6UuNXg7fkSyNI',\n",
    "                  '2558496216-SuPVyV3fxLbCUGE8wXEBFV0q3FtXrdjD8Ysz2Vn', 'iqG4hbBxAarxBk52U3zRKYRIwbFq7mQCdxRm1rcx1FmJB')\n",
    "requests.get(url, auth=auth)\n",
    "\n",
    "searchterm = input(\"Please input some word : \")\n",
    "\n",
    "searchterm = searchterm.replace(\" \", \"%20\")"
   ]
  },
  {
   "cell_type": "code",
   "execution_count": 55,
   "metadata": {
    "collapsed": false
   },
   "outputs": [],
   "source": [
    "getTweet = 'https://api.twitter.com/1.1/search/tweets.json?q=%40'+searchterm+'&count=500'\n",
    "response = requests.get(getTweet, auth = auth)\n",
    "response = response.json()\n",
    "\n",
    "path = searchterm.replace(\"%20\",\" \").upper()\n",
    "\n",
    "#if not os.path.exists(path):\n",
    "#    os.makedirs(path)\n",
    "\n",
    "\n",
    "\n",
    "#prettyprint = json.dumps(response, indent=4, sort_keys=True)\n",
    "#print(prettyprint)\n",
    "\n",
    "with open(path +'.json', 'w') as f:\n",
    "     json.dump(response, f)\n",
    "\n",
    "#print(response)\n",
    "\n",
    "#type(response)"
   ]
  },
  {
   "cell_type": "code",
   "execution_count": 61,
   "metadata": {
    "collapsed": false
   },
   "outputs": [],
   "source": [
    "with open(path +'.json', 'r') as readf:\n",
    "    for line in readf.readlines():\n",
    "        data = json.loads(line);\n",
    "    \n",
    "tweetdata = {}\n",
    "retweetCount = {}\n",
    "areatimezone = {}\n",
    "sorttweets =[]\n",
    "for statuses in data['statuses']:\n",
    "    tweetdata[statuses['id']] = statuses\n",
    "    \n",
    "for key in tweetdata:\n",
    "     retweetCount[key] = tweetdata[key]['retweet_count']\n",
    "\n",
    "sorttweets = sorted(retweetCount.items(), key=lambda x: x[1])\n",
    "a=[]  \n",
    "a = sorttweets[-1:]\n",
    "#print(a)\n",
    "\n",
    "\n",
    "for id in tweetdata:\n",
    "    user = tweetdata[id]['user']\n",
    "    if user['time_zone'] is not None: \n",
    "        if user['time_zone'] in areatimezone:\n",
    "            areatimezone[user['time_zone']] += 1\n",
    "        else:\n",
    "            areatimezone[user['time_zone']] = 1\n",
    "            \n",
    "sorttimezone = sorted(areatimezone.items(), key=lambda x: x[1])\n",
    "b = sorttimezone[-10:]\n",
    "\n",
    "for (p,q) in b:\n",
    "    print(\"Tweetcount in \", p +\" is ---->\", q)\n",
    "\n",
    "#type(a)\n",
    "#ype(areatimezone)\n",
    "#print(b)\n",
    "#print(tweetdata)\n"
   ]
  },
  {
   "cell_type": "code",
   "execution_count": 57,
   "metadata": {
    "collapsed": false
   },
   "outputs": [
    {
     "name": "stdout",
     "output_type": "stream",
     "text": [
      "Most retweeted tweet forTom Hanks is: RT @Sshak4: follow @tom hanks\n"
     ]
    }
   ],
   "source": [
    "text = []\n",
    "for (x,y) in a:\n",
    "    if x in tweetdata:\n",
    "        text.append(tweetdata[x]['text'])\n",
    "\n",
    "print(\"Most retweeted tweet for \"+searchterm.replace(\"%20\",\" \")+ \" is:\", text[0])\n"
   ]
  },
  {
   "cell_type": "code",
   "execution_count": 58,
   "metadata": {
    "collapsed": false
   },
   "outputs": [
    {
     "name": "stdout",
     "output_type": "stream",
     "text": [
      "182\n",
      "2\n",
      "Each user tweeting for Tom Hanks has on an average 91 followers. \n"
     ]
    }
   ],
   "source": [
    "count = 0\n",
    "followers_count = 0\n",
    "for id in tweetdata:\n",
    "    user = tweetdata[id]['user']\n",
    "    if user['followers_count'] is not None:\n",
    "        followers_count += user['followers_count']\n",
    "        count += 1\n",
    "        \n",
    "#print(followers_count)\n",
    "#print(count)\n",
    "\n",
    "#avg_followers_count = (int)(followers_count/count)\n",
    "print(\"Each user tweeting for \"+searchterm.replace(\"%20\",\" \")+\" has on an average\", (int)(followers_count/count) ,\"followers. \" )"
   ]
  },
  {
   "cell_type": "code",
   "execution_count": 59,
   "metadata": {
    "collapsed": false
   },
   "outputs": [
    {
     "name": "stdout",
     "output_type": "stream",
     "text": [
      "1704\n",
      "2\n",
      "Each user tweeting for Tom Hanks on an average follows 852 users.\n"
     ]
    }
   ],
   "source": [
    "count_friends = 0\n",
    "friends_count = 0\n",
    "for id in tweetdata:\n",
    "    user = tweetdata[id]['user']\n",
    "    if user['friends_count'] is not None:\n",
    "        friends_count += user['friends_count']\n",
    "        count_friends += 1\n",
    "        \n",
    "#print(friends_count)\n",
    "#print(count_friends)\n",
    "\n",
    "#avg_followers_count = (int)(followers_count/count)\n",
    "print(\"Each user tweeting for \"+searchterm.replace(\"%20\",\" \")+\" on an average follows\", (int)(friends_count/count_friends) ,\"users.\")"
   ]
  },
  {
   "cell_type": "code",
   "execution_count": 60,
   "metadata": {
    "collapsed": false
   },
   "outputs": [
    {
     "name": "stdout",
     "output_type": "stream",
     "text": [
      "Most liked tweet for Tom Hanks is: I can't wait for this week's @SNL debate skit @Tom Hanks #debate\n"
     ]
    }
   ],
   "source": [
    "favoritecount = {}\n",
    "for key in tweetdata:\n",
    "     favoritecount[key] = tweetdata[key]['favorite_count']\n",
    "    \n",
    "sortfavorites = sorted(favoritecount.items(), key=lambda x: x[1])\n",
    "c=[]  \n",
    "c = sortfavorites[-1:]\n",
    "#print(c)\n",
    "\n",
    "#print(favoritecount)\n",
    "\n",
    "text1 = []\n",
    "for (x1,y1) in c:\n",
    "    if x1 in tweetdata:\n",
    "        text1.append(tweetdata[x1]['text'])\n",
    "\n",
    "print(\"Most liked tweet for \"+searchterm.replace(\"%20\",\" \")+ \" is:\",text1[0])"
   ]
  },
  {
   "cell_type": "code",
   "execution_count": null,
   "metadata": {
    "collapsed": true
   },
   "outputs": [],
   "source": []
  }
 ],
 "metadata": {
  "anaconda-cloud": {},
  "kernelspec": {
   "display_name": "Python [Root]",
   "language": "python",
   "name": "Python [Root]"
  },
  "language_info": {
   "codemirror_mode": {
    "name": "ipython",
    "version": 3
   },
   "file_extension": ".py",
   "mimetype": "text/x-python",
   "name": "python",
   "nbconvert_exporter": "python",
   "pygments_lexer": "ipython3",
   "version": "3.5.2"
  }
 },
 "nbformat": 4,
 "nbformat_minor": 0
}
