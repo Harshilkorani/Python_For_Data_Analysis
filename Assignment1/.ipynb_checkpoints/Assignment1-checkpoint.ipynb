{
 "cells": [
  {
   "cell_type": "markdown",
   "metadata": {
    "collapsed": true
   },
   "source": [
    "# Q1\n",
    "# Create a list of numbers which are multiple of 3 and 7 between 1 to 500\n",
    "# For the list, find what is the mean. Print what is 25th quartile, 50th quartile and 75th quartile."
   ]
  },
  {
   "cell_type": "code",
   "execution_count": 68,
   "metadata": {
    "collapsed": false
   },
   "outputs": [
    {
     "name": "stdout",
     "output_type": "stream",
     "text": [
      "List of numbers multiple of 3 & 7 are: [21, 42, 63, 84, 105, 126, 147, 168, 189, 210, 231, 252, 273, 294, 315, 336, 357, 378, 399, 420, 441, 462, 483]\n",
      "Mean value in the list is: 252.0\n",
      "1st quartile/25th Percentile : 126\n",
      "2nd quartile/50th Percentile : 252\n",
      "3rd quartile/75th Percentile : 378\n"
     ]
    }
   ],
   "source": [
    "L = list(range(21,500,21))\n",
    "mean = sum(L)/len(L)\n",
    "q1 = len(L)/4\n",
    "print(\"List of numbers multiple of 3 & 7 are:\", L)\n",
    "print(\"Mean value in the list is:\", mean)\n",
    "print(\"1st quartile/25th Percentile :\", L[int(len(L)/4)])\n",
    "\n",
    "q2 = len(L)/2\n",
    "print(\"2nd quartile/50th Percentile :\",L[int(len(L)/2)])\n",
    "\n",
    "q3 = int((len(L)/4) * 3)\n",
    "print(\"3rd quartile/75th Percentile :\", L[q3])"
   ]
  },
  {
   "cell_type": "markdown",
   "metadata": {},
   "source": [
    "# Q2\n",
    "# Read the file ‘ques2.txt’. Print the number of words.¶\n",
    "# Find out what is the average, median and mode for word length (character length)"
   ]
  },
  {
   "cell_type": "code",
   "execution_count": 122,
   "metadata": {
    "collapsed": false
   },
   "outputs": [
    {
     "name": "stdout",
     "output_type": "stream",
     "text": [
      "309\n",
      "309\n",
      "[1, 1, 1, 1, 1, 1, 2, 2, 2, 2, 2, 2, 2, 2, 2, 2, 2, 2, 2, 2, 2, 2, 2, 2, 2, 2, 2, 2, 2, 2, 2, 2, 2, 2, 2, 2, 2, 2, 2, 2, 2, 2, 2, 2, 2, 2, 2, 2, 2, 2, 2, 2, 2, 2, 2, 2, 2, 2, 2, 3, 3, 3, 3, 3, 3, 3, 3, 3, 3, 3, 3, 3, 3, 3, 3, 3, 3, 3, 3, 3, 3, 3, 3, 3, 3, 3, 3, 3, 3, 3, 3, 3, 3, 3, 3, 3, 3, 3, 3, 3, 3, 3, 3, 3, 3, 4, 4, 4, 4, 4, 4, 4, 4, 4, 4, 4, 4, 4, 4, 4, 4, 4, 4, 4, 4, 4, 4, 4, 4, 4, 4, 4, 4, 4, 4, 4, 4, 4, 4, 4, 5, 5, 5, 5, 5, 5, 5, 5, 5, 5, 5, 5, 5, 5, 5, 5, 5, 5, 5, 5, 5, 5, 5, 5, 5, 5, 5, 5, 5, 5, 6, 6, 6, 6, 6, 6, 6, 6, 6, 6, 6, 6, 6, 6, 6, 6, 6, 6, 6, 6, 6, 6, 6, 6, 6, 6, 7, 7, 7, 7, 7, 7, 7, 7, 7, 7, 7, 7, 7, 7, 7, 7, 7, 7, 7, 7, 7, 7, 7, 7, 7, 7, 7, 7, 7, 8, 8, 8, 8, 8, 8, 8, 8, 8, 8, 8, 8, 8, 8, 8, 8, 8, 8, 8, 8, 8, 8, 8, 8, 8, 8, 8, 9, 9, 9, 9, 9, 9, 9, 9, 9, 9, 9, 9, 9, 9, 9, 9, 10, 10, 10, 10, 10, 10, 10, 10, 10, 10, 10, 10, 10, 10, 11, 11, 11, 11, 11, 11, 11, 12, 12, 12, 12, 12, 12, 12, 12, 12, 12, 12, 13, 13, 13, 13, 14, 15, 16, 16, 17]\n",
      "Number of words is:  309\n",
      "Average word length is: 5.624595469255663\n",
      "Median is: 5\n",
      "Mode: 2\n"
     ]
    }
   ],
   "source": [
    "f2name = \"ques2.txt\"\n",
    "\n",
    "num_lines = 0\n",
    "num_words = 0\n",
    "num_chars = 0\n",
    "chars = 0\n",
    "lengthlist1 = []\n",
    "\n",
    "with open(f2name, 'r') as l:\n",
    "    for line in l:\n",
    "        words = line.split()\n",
    "        #print(words)\n",
    "        \n",
    "        num_lines += 1\n",
    "        num_words += len(words)\n",
    "        num_chars += len(line)\n",
    "    \n",
    "    #stg = f.read()\n",
    "#print(stg)\n",
    "#l1 = stg.split(' ')\n",
    "#print(l1)\n",
    "\n",
    "#for x in [1,2,3]:\n",
    "    #print(x)\n",
    "    \n",
    "    \n",
    "    #for line in l:\n",
    "        #words = line.split()\n",
    "        #print(words)\n",
    "        \n",
    "            \n",
    "            \n",
    "        #num_lines += 1\n",
    "        #num_words += len(words)\n",
    "        #num_chars += len(line)\n",
    "        \n",
    "for i in words:\n",
    "    chars += len(i)\n",
    "        #print(type(words))\n",
    "        \n",
    "for j in words:\n",
    "            #lengthlist.append[len(j)]\n",
    "            #type(lengthlist)\n",
    "    lengthlist1.append(len(j))\n",
    "            #print(type(lengthlist))\n",
    "            \n",
    "            #print(lengthlist)\n",
    "\n",
    "print(len(lengthlist1))\n",
    "#print(num_lines)\n",
    "L = []\n",
    "#print(len(lengthlist))\n",
    "L = sorted(lengthlist1)\n",
    "print(len(L))\n",
    "\n",
    "#print(sorted(lengthlist))\n",
    "#print(lengthlist)\n",
    "print(L)\n",
    "print(\"Number of words is: \", num_words)\n",
    "print(\"Average word length is:\", chars/num_words)\n",
    "print(\"Median is:\", L[int(len(L)/2)])\n",
    "\n",
    "from statistics import mode\n",
    "print(\"Mode:\", mode((L)))\n",
    "\n",
    "#print(chars)\n",
    "#print(num_chars)\n"
   ]
  },
  {
   "cell_type": "markdown",
   "metadata": {
    "collapsed": true
   },
   "source": [
    "# Q3\n",
    "# There are 1500 json files in ‘Lecture03/question03’. Find out how many of the files contain the string, ‘User not found’ (case insensitive)\n",
    "# File name is user_id.json\n",
    "# Create a dictionary, containing (user_id,present). present is 0 if ‘user not found’ else 1. Print random 5 entries"
   ]
  },
  {
   "cell_type": "code",
   "execution_count": 1,
   "metadata": {
    "collapsed": false
   },
   "outputs": [
    {
     "name": "stdout",
     "output_type": "stream",
     "text": [
      "Number of json files which contains keyword User not found are: 877\n",
      "Number of json files which does not contain keyword User not found are: 623\n",
      "{'Q72ts3B41Bcuag5': 1, 'ZueXWizt1BMpwd5': 0, 'WgO5xdqB1AlD9F5': 1, 'vVWPKxJ01BEVfZ2': 0, 'ZuCGqtX51BMmqF5': 1, 'wuoLWeMB1AfUU32': 1, 'rtZOwrMb1BMdfP2': 0, 'g3bmJ7hI1BMvIC2': 1, 'A0kxiHL81AN9pH5': 0, 'qZigPREc1BMNzi2': 1, 'zVkIfM2D1BnRpQ5': 0, 'G4XKAVVQ1Bl9IZ5': 0, 'VkKnP2sz1zNiaH2': 0, 'ZQfaSO5n1BpdMa5': 1, 'ZvdjNF051BMmms2': 0, 'rLi53H881BAlra5': 1, 'znNaVJvD1ByXRA5': 1, 'qxUzPTzR1BMbJE2': 0, 'vJiB2vWI1BdURH5': 0, 'qzzhWtPc1zYauG5': 0, 'ZVwFG5Ye1BMbOU2': 0, 'wIVBvcOM1AOKvM5': 1, 'RgMORvt81AMI4r5': 1, 'qRT2uTR91BM6Ka5': 0, 'WmKNjcRa1BE2hd5': 0, 'w8JsGfDn1BsN3H5': 1, 'RE1A4l4K1BiDCg5': 0, 'Bt8HN1TN1AZbUB5': 1, 'w1AWAm5GJbhxnbrcRF6XcjGmIJ2x5BDb': 0, 'r3HyXat91APNOu5': 1, 'AKQDTy341AYLky5': 1, 'vwOCckem1Bx4Wa5': 1, 'Ao7YRH2K1BFPYC5': 0, 'BENy3u321Bu3jA5': 1, 'vrZ9dXXP1BtO5w5': 1, 'FyXumeBK1BKKMo5': 1, 'W79mJW4f1BMb2j2': 0, 'rUMLvvEj1BEy012': 1, 'WgZBb9i31BMyhP2': 0, 'BN5lNV2o1BMu2C2': 0, 'VuGrlYM11BJy6Z5': 1, 'VxSB0MwO1BB4WY5': 1, 'RLbeoM011BCnDo5': 1, 'AAHWj5QN1BJ1ZP5': 1, 'wTB9SJ4h1BEvUK5': 1, 'r5Z1s2Mq1BzbIU5': 0, 'AuzcZMWG1zzsF52': 0, 'ZSzfe3jX1B2aT65': 1, 'W5drVVBv1BMlj55': 1, 'VV9OvM4I1AsX142': 1, 'RbeRxE4K1BMqgi2': 0, 'R6c4hnVt1BM8ld2': 0, 'wGqSklKG1BkD1f5': 0, 'zp9xcenr1BfKPs5': 0, 'Wclt2dB71Br1kN5': 0, 'ACE6wrft1AqkzU5': 1, 'BNPer02ZkyDCxmsdpehBzDbXxuP8t5tH': 0, 'BmA0YKvx1BjGad5': 0, 'B54jhdRr1BrnBO5': 1, 'B9JmSTEk1BI70R5': 1, 'B6PiF5Fx1BMsmm2': 0, 'Bf6HO9ir1BKUxU5': 0, 'AOkfiLLtOyhRI9tdnbHhu0kJ3OSz1fHR': 0, 'VLxuMKFn1BhKf05': 1, 'vjQKXYvk1BM6Ug2': 0, 'ADnnRccZ1BMNWG2': 0, 'BT3bobhX1BEvJ42': 0, 'r26XSchO1BLZcE2': 0, 'g80GJLlK1BKis35': 1, 'AyHPcmQ71A2s425': 0, 'zNXXGHKF1AKoO65': 1, 'VMvFV5X41A1SLj5': 1, 'AFFC2C591BlDCm5': 1, 'RVRSFBBd1BnvBc5': 1, 'R52MXTGG1BdbqX5': 0, 'A7PU2Z9H1BMMZ62': 0, 'AuQkdgCR1BnVC25': 0, 'AgsjVhis1BMw6U5': 0, 'ZpQjxq0d1BMbYu2': 1, 'Zroy1oFT1BMrf62': 0, 'q7qIVctT1BoX285': 0, 'ROD15LNO1zGDlD5': 1, 'W2sHzblqiE5QLeZ6uOGxUve2yG3we3Bq': 0, 'FvxnmIZU1AWxGP5': 1, 'B6Sxz5gg1BFDIx5': 0, 'Ae6vG7dU1BMwos2': 0, 'wC5uP2Ht1BJOeq5': 1, 'Gb51o7ol1BA8Jf5': 1, 'Vztegpyo1AesYV5': 1, 'W3kDNDcB1BMsmo2': 0, 'RFAfKOJZ1A5o0D5': 1, 'WFZoOTc61BiQva5': 0, 'VY8ary9P1BMdWI5': 0, 'rJ0VWKzj1BMpis2': 0, 'AtXEmaDc1BMvsl2': 0, 'A3j6Sjuz1BMMV82': 1, 'qUogFx1H1B4kac2': 1, 'voEX9gBa1BMal02': 0, 'rDByGL5p1BMdLK5': 0, 'wWSBUJDb1BMbCs2': 0, 'GCcL2x151AdXLi5': 0, 'qv6c88VB1BMrno5': 0, 'AToXn7cN1BMxOy2': 0, 'VRvhFUHO1BMncU5': 0, 'VyWhR3531BMmLj2': 0, 'WCXrYlHy1BMa7u2': 0, 'qQKlvx5w1BMr9W5': 0, 'BtHxPRga1zV8Ci5': 1, 'QYlYsXBy1BM35Z2': 0, 'VZMHjBW11Af3fc5': 0, 'wDEvuCsE1BJ3Nv5': 1, 'BSGTfbzL1BM8pJ2': 0, 'VzPAuS1r1BvPM15': 0, 'BGijYBDQ1AX6HB5': 1, 'AGCpEWWb1BEx235': 1, 'raV6t2RVtoZN3NRFykJBT2tomrwDoy4T': 0, 'fyT9fL8M1BMb9p2': 0, 'rn01nShC1BMtzG5': 1, 'VSUBQqJf1BLDUq5': 1, 'Rn9dcjzH1AvoVa2': 1, 'RIm45HSY1BFgQA5': 1, 'wOl4wv2q1zsxAR5': 1, 'BovGXCnr1Bti305': 1, 'rsnKu4BH1BhGBD5': 1, 'AjnCxTwv1BMutG2': 1, 'VRzQ2Owo1BByll5': 1, 'rbBHXXAu1BHqTl5': 1, 'wQI7l8os1BAOrU5': 1, 'BF0LwNhC1BekAq2': 1, 'Aig7jcGk1BqoTb5': 1, 'W6ZSfxGy1BMJI95': 0, 'WKyvrNfx1BMaNb2': 0, 'RCtixFDc1BMMU02': 1, 'WIaQQcMu1BDlTh5': 1, 'G8gZeZB11BmLlY5': 0, 'Ruc4feCd1BMoCp5': 0, 'vPe2BllQ1BHqs55': 0, 'qYgCTww31BMbkX2': 0, 'g9Uw5Amq1AXl0t5': 0, 'AdjWlMHv1A8vM55': 1, 'RTLod0qq1BMmjI5': 0, 'Bpk3BPmD1BLmwF5': 1, 'QwpVzH5t1AensX5': 0, 'ZnrJ1QXr1AuC3x5': 1, 'ZQcoKCmB1B5eii5': 1, 'wqOvFlSq1BMoFO2': 0, 'qwL3Uk0o1ATM675': 0, 'G9pL2nBp1BMCcI2': 0, 'Rv7YUw1o1BvnJk5': 1, 'vrKT0K2SJRYOsouWIIbyeuw0aFKMv4vk': 0, 'Ao9Hq2011BMprL5': 0, 'rbdU0rGk1BqgNk5': 1, 'RgeMZ2Qb1BkRzq5': 1, 'wbPdTWzXQkN0ndTDG4EhXCPXzfr33W2a': 1, 'AYBhCCwF1zzi5m5': 1, 'wghzLF0A1Bfarm5': 1, 'wH2Sc6JD1BM7P62': 0, 'wIz10VJW1BMlxH2': 0, 'zV5clGg11BLLLk2': 0, 'QUnTswIV1BJTsc2': 0, 'QRgbEVYK1B1oKt5': 0, 'B1KpJ5Vo1BGgfl5': 0, 'QWqI76vY1BCSPK5': 1, 'wPwbglEY1BM4Rk5': 0, 'wTu8gCreexE7dFFsoAK0dSCTSXDOBL0x': 1, 'rqnYOoh01BM9s52': 0, 'WFIVJEud1B662x5': 1, 'zQD7tOCN1BMlDn5': 0, 'ANuFI3wm1BM9C75': 1, 'GA482sVBlMqeeUOEzWE8QZ2l59e2amoA': 0, 'rKfqndp21BMg9Y5': 0, 'Q5LBy7B81BBE6U5': 0, 'gBOXQ6cY1BH0nw5': 0, 'AzRcJ2UX1BLzkq5': 0, 'BiStK9rA1zT5VS5': 1, 'wfY2P5rY1ByDXk5': 1, 'qQfVQ5Hf1BJuks5': 1, 'r9ByWWWq1BM0522': 0, 'G0KvgDN31AQYmr5': 0, 'Q73kieFb1zL9325': 0, 'AIxBYVXc1BMuDS2': 0, 'AY5WuVnD1Bkdn15': 0, 'BQYVihQz1BFwt25': 1, 'vuw6IT9l1BMMXv5': 0, 'AhYD6HCu1BMzen2': 0, 'rObzgVm91BM60V2': 0, 'QTZsyJ4K1BMeWA5': 0, 'B56uxWtM1BMbSA2': 0, 'W5uneUpY1BMvm85': 0, 'wYhchBun1BM8cW5': 0, 'AsvbNPu71B75C65': 1, 'fW4Te2Aw1BMlF42': 0, 'gbXyRyu81BoKHh5': 0, 'GCkFM4uj1BpNS65': 1, 'g6G8xYAP1BM9hI2': 0, 'rrOPB4jR1BLZrB5': 1, 'zohqpqfb1BMjzl2': 0, 'wdwFQreo1BxzoU5': 1, 'RAgstnKu1BMaB62': 0, 'R9N9QzFO1B9Hqi5': 1, 'AapR6cha1AdAaJ5': 0, 'BDVxEPRh1BLQUL5': 1, 'WvYigZdB1BMbSv5': 0, 'wvon4kVo1AqRn15': 1, 'RuCV2Ml01BztxS5': 1, 'AxtScjEi1Btf3Y5': 1, 'zvX7apWb1BMcd15': 0, 'QWe9yhxk1BMqqT2': 0, 'ZuWjcESU1BoR9S5': 1, 'VUNbyUuU1Aa99n5': 0, 'AUqXVIJz1BhjHj5': 1, 'qtJBRzOL1BM6DD5': 0, 'wFKRB90O1BcSaW5': 0, 'vLZKER2W1BGfzD5': 1, 'B1o0SoUn1Bm9jo5': 0, 'Wl9xUZNF1BLRKP2': 0, 'vjljAxZ41BqE2f5': 1, 'RkKb0PjT1zMWgW5': 1, 'wMLb9zFP1ASZR85': 1, 'WIs5P3Eg1AWVbn5': 1, 'QZZl3uCS1By2wz5': 1, 'G4ygoHJR1BCZ5i2': 1, 'WOnmFZ6U1Bccmh5': 0, 'RleTQ9pG1A88GT5': 1, 'BbsEjJhY1A9y6x5': 1, 'rQ0RjFZC1BGkTb5': 1, 'W3rOZ0li1BMN5Y5': 0, 'vNZxrhpd1zEM7m5': 0, 'w0BGAqao1BpALl5': 1, 'RJk1nsmw1BJ4Fz5': 0, 'vMWDzHXy1BMcSc2': 0, 'WW6z5CFh1BM83h2': 0, 'RFc6ANkN1BLN4R5': 1, 'q7Y681J51zK01u2': 1, 'zmfwe2Cd1B10Mt2': 0, 'rQfQle9t1BMoDh2': 1, 'qunhQRw41BMqRD2': 1, 'wRzVn2RK1BuVe85': 1, 'Zms1DY0l1BMbqc5': 0, 'Qae5k9IB1AiPtx5': 1, 'VmZCBAQg1BoDSo5': 0, 'RsXwvljm1AhLad2': 1, 'zsOAmhnh1BM7ua2': 0, 'whSyMF5Q1BMtRU5': 1, 'rtxN9uKq1BMwMZ5': 0, 'AmclMYqT1BAA325': 0, 'QuwOnkyK1AqLRV2': 1, 'BGpYlHX01BLZqS2': 0, 'RCrYpMku1BM9YZ2': 0, 'wt7YoA821BM8vK2': 0, 'RKens0EO1BMpaS2': 0, 'wBZf1wEw1BMazd2': 0, 'FYMVcWEj1BLBwe2': 0, 'AJmn0gHp1BDJ242': 1, 'ZnHBpp4e1BMJq35': 0, 'w8H1tlTi1zT1ae5': 0, 'A3AKl1261BKeCM2': 0, 'Vrjd5vpq1Advbq5': 1, 'QqzX51nr1BKyNj5': 0, 'zPnQBGP41BMsi02': 0, 'wj8rTOOl1BEyqI5': 1, 'wO3ocQDiq4nx5R5yn6tXM5w0GQ8rYrya': 0, 'ZtRlYArr1BMQ4l2': 0, 'RPmIV7kc1BM7im5': 0, 'AdXNALq11A0ahs2': 0, 'w1RIee531BKdNL5': 0, 'wd36an0f1B1YiW5': 1, 'VgYBf4X11BMO2e2': 1, 'BT00z6RG1BLQtQ5': 0, 'VnfnSooZ1B37Xn5': 0, 'vSzyn86Y1BH8yF5': 1, 'BNOviu3L1BMrwp2': 0, 'zn5zKy4y1BFhhg5': 0, 'rUgMObVC1BB8O35': 1, 'Bda5y4Pc1ALEo02': 0, 'B2PfYRTV1BLjOs5': 0, 'VrZqdMVO1BM8Qm2': 0, 'Vj2IKJXa1zoxiz5': 0, 'fWOrVAxL1BMLWy2': 1, 'ARVVbAar1BKzar5': 0, 'RCrCAOZv1B7JMI5': 1, 'AoMDTLDe1Bk5lD5': 1, 'g54OZDxJ1AjU9A5': 1, 'g59Qyaz91BMbtz5': 0, 'B8mFKGvf1BMI6W2': 0, 'ATPm3LpW1BepUd5': 1, 'ARI5Y6ZM1BImA25': 1, 'B1fkWU4B1BnJpi5': 1, 'RrpHRhiE1Bv2mL5': 1, 'VJ6PURMN1BCKl22': 0, 'Qr80sicP1BM9so2': 0, 'Waq4rojO1B6ME25': 1, 'Q24ySBPt1BMwzF2': 0, 'AshLxCP91BMmJS2': 0, 'Zmn2B2Hb1ANG9P2': 0, 'qW1CSXnR1AFcQ12': 0, 'FX5fmTRe1BnZec5': 1, 'BIpfcxZA1zQ35g5': 1, 'vlpdSh6i1AOXUa5': 1, 'qsSUHIY01BcwkV5': 0, 'w8cGQqGx1zFDsT5': 0, 'zrLRShX81BEegW5': 0, 'vLfXMsLG1B4Ah75': 0, 'wf4nO4o21BMCdP2': 0, 'zsn3Uw621AMTK95': 1, 'qtOoLnJw1BLQZs2': 0, 'B3ewYviF1BMuKQ2': 0, 'wdzXBKdc1BEwfl5': 1, 'fxNmUT4F1ztgUG5': 0, 'ruZhhuu61BjjZH5': 1, 'W0uOHr9y1BMvId6': 0, 'Zt2jEtbB1BM7Fa2': 0, 'QsAVgeiL1BDh2G5': 1, 'AnhmBX0Z1BMLcf5': 1, 'VpaofsEU1BerTq5': 0, 'QqfwcL4Y1Bnvm05': 1, 'R8nkA9GD1Borkr5': 1, 'AbXTXPsS1ABdoH2': 0, 'RkaTvTEu1BMCPN2': 0, 'wDFFVP1n1B8WQn5': 1, 'QZL7nIpc1AN9w22': 1, 'zMTquV0G1A3zO95': 1, 'qq9kS06r1B6lcp5': 1, 'G3fdTPzD1BM9MC2': 0, 'ANVx1FeU1BDcHs5': 0, 'VPngQI8E1AOo905': 0, 'ZoI6tW6h1BMr2W2': 0, 'BMUXeSI41BM71p5': 0, 'WvfOL5BS1BHD5S2': 0, 'AccoGpwU1BMvn42': 1, 'qac1f56I1BMLng5': 0, 'WB4RF8C21B8fCc5': 1, 'vJHTYrfm1AOdVd2': 1, 'QzbRFFce1BLLbX2': 0, 'Q3riHOc51BLJT92': 0, 'viHkGAwc1BMaeI2': 0, 'WTfWjf0I1BMiW42': 0, 'QtZFijzE1BMtE42': 0, 'qrj7e1w01BovOU5': 1, 'G3t1FYxv1BM88B5': 0, 'WSbJuAho1BBeKX5': 0, 'AlpgeUoO6y2LshqJxIu5tvHKcisaiRxY': 1, 'wL87KtWI1BG05P5': 0, 'q7pNkcta1BhsJA2': 0, 'wbNrlBLw1ACJMx5': 1, 'g9nTxgPQ1BMwk92': 1, 'R0bRPwwc1Bj8SG5': 1, 'vqTjwdYb1BMy7s5': 1, 'VmU8tt491BM1UC2': 1, 'ALoyUvl91ApXMz5': 0, 'RDMrIp9A1BM5Yj2': 0, 'QWjv0Rlp1BnxWG2': 0, 'qQbfcvFi1B2krk5': 1, 'ztA3NtIV1B7kYc5': 1, 'vYAgEdSN1BMboG2': 0, 'zwdwIjc61A9ZzY5': 0, 'VtbhaDJP1BMqzC2': 1, 'VM3C5V0r1BGVL95': 0, 'WBa3dUDC1BM7ji5': 0, 'Rdt5XUHi1BMeSX5': 0, 'rikGNGOZ1zyjyI2': 0, 'vIaWDxe21BHeX45': 1, 'WKcBAreQ1BepzT5': 0, 'fyKxQ5d21BM98t2': 0, 'REi64X7d1AGFnF2': 1, 'AzkZCnIF1BMPlk5': 0, 'ABwA5DAx1Az1g65': 1, 'FvvwAEN11BAJxx5': 0, 'gcyyGodc1AO2J15': 1, 'RBUmGq3A1BroQX5': 0, 'G56R7Dyg1BpzWI5': 0, 'Vyh6w0ih1AwgiE5': 0, 'Vsfy9ooL1BMvm02': 0, 'QsohBrOM1BMcZ02': 0, 'Bevic89q1BI78c5': 1, 'BlgoDTTL1BLp075': 1, 'wRFAkBoY1BHFHx5': 0, 'RhomxVAg1BKCXM5': 1, 'wTW3Fl471ADTNT5': 0, 'vQUXl53k1BMwVR5': 0, 'rVanM4F31BMv2i5': 1, 'B7R1QfGl1AvPZw5': 1, 'Q6L7w7x41BMbjT2': 0, 'wOiLaTuZ1BM8US2': 0, 'R6JfH8ck1BJeZx2': 1, 'vV2oB1Yd1BMcz22': 0, 'w6F6Xwl81BiJfH5': 0, 'BOaq3ZNo1AzLOR5': 1, 'BMNYuCnC1BMOYK2': 0, 'BN5TKLdK1zsXgV5': 1, 'qSTA4KHB1BMkKj5': 0, 'VQZxITkn1BMbY42': 0, 'Qu1x0BYC1AHPoe5': 1, 'rekGI7C61AwVWu5': 1, 'g9S3X4hj1BMclW2': 0, 'AnFGtQNX1BM2qq2': 0, 'ri6CGHXA1BMusQ2': 0, 'qYohFJSI1BMLwD2': 0, 'Q354qrDS1Btal05': 1, 'R6DrKL4l1BlIEq5': 0, 'VZYK6rd71Bvpmv5': 0, 'vNG5GudB1A7yV55': 0, 'RuCdPh3Q1BDcGL5': 1, 'WpPR5Yph1A6K1c5': 0, 'ZT3GNdoZ1BKj6Q5': 0, 'AzGRHSwv1A7SYr5': 0, 'g30uk4sl1B1AW95': 0, 'AJHEkzfW1Adc5x5': 1, 'RGaEjG8F1BFfmw5': 0, 'vnxWp3r31Bx3rL5': 1, 'ZmrIHv2n1BE24P5': 0, 'BPqAj1iu1BMquG2': 0, 'APADpQOO1BM4yi5': 0, 'zrsVaF791BMN8a2': 0, 'R92udmPe1Bs6ja5': 0, 'vKO4nkTP1BLMd12': 0, 'gcqe285I1BwxeK5': 1, 'ARGizL9S1B8ZD25': 1, 'rEU5SXr61ALxuB5': 1, 'VYkSjiGZ1BMnM52': 0, 'R1IYuUzz1AR8Os5': 1, 'wOndRgNQ1BLLur5': 0, 'WWl2ALx51AmKnl5': 1, 'wDUfmZCt1BwtXl5': 1, 'RKVmqtz31B5eCh5': 0, 'AVPrMtTi1BLZ8M2': 0, 'RobjHrno1BFwTD2': 1, 'zqbZpPLf1BMPOG5': 1, 'WxoXk2Da1BMwGP2': 0, 'WgcSAPAi1BM7FQ2': 0, 'r5X6ciY71BlHC32': 1, 'vOHz9Sgn1BM5e15': 0, 'vzVSGWgl1BrNE25': 0, 'rLlN5RBxlnMt9xugI7UuDEyTMY7EmgJA': 0, 'WQuLQDyn1BLrNE5': 1, 'rrLnHyNs1BKZUy5': 1, 'q7lBcUDx1BM8PN2': 0, 'QxHEYpgy1znNK95': 0, 'rMUhNuX11AeS7d5': 1, 'G1MIBSBH1ByC2u5': 1, 'WwmpHbh31BrHby5': 1, 'vQ6jeTe31BMmzf2': 0, 'AFgS4h8j1Alkob5': 0, 'Rs8gdR7q1BMmIa2': 0, 'G0aXzHDS1BMzKr2': 1, 'ABSy3tf91BzpGe5': 1, 'rP7XoEXx1BLs865': 1, 'WUcNJE7L1BMdcM5': 0, 'ZVk66FW11APmqN5': 1, 'WV0SPpb11A88TO5': 0, 'W5RmBgfN1BKW9X5': 0, 'BhESTp881BMzKe2': 0, 'FxTuYsfm1BnEYC5': 1, 'APXcAS4S1ByJCD5': 0, 'RM97QHLY1AA9Wt5': 0, 'fYdVhZD4odl9KRcVpxprJi9lTth1oERe': 0, 'RtIoKu2C1zPlPC5': 1, 'RMpmdOBV1BMa5Z2': 0, 'gCAoq2Cz1BMN212': 0, 'VPSaAVrM1zYUyh5': 1, 'Wk0fVkBM1BM7yc2': 0, 'FzirTfFY1Buhp55': 0, 'AlZxopEB1zvi8R2': 0, 'WDBK9jXF1BMtOS2': 0, 'RF4aLnyy1Bq4qB5': 1, 'wE79hOp01BMc5G5': 0, 'G0DC1GlH1BLNZH2': 0, 'BCaQ1o0L1BF6Vv2': 1, 'vqdzoe6B1BL4nu5': 0, 'R6LFjOFQ1zZ6UL5': 0, 'rakPLmeW1BMu5u2': 0, 'Fxf1G7Es1BoYdG5': 1, 'zPcXp8X31AVP8u5': 0, 'vTsqsqq41A0wIK5': 1, 'ZuQO68HJ1BC5bh5': 1, 'VZXg5bsN1Bc9Tt5': 0, 'zTOvpRaL1BM6na2': 1, 'rcddMu2Y1BGiSo5': 1, 'Wcp6leSN1AQmXt2': 0, 'g7US6pKr1BM8ON2': 0, 'RoQ441oX1Br3TE5': 1, 'RlMMdesm1BMQEC2': 0, 'Af0ylxDN1BM4Nq5': 0, 'W6m8Lpax1BMoDW2': 0, 'WLl7EdG01BMzdN2': 0, 'w95QhHrT1B2h695': 1, 'rPfEbSHX1B5jCP5': 0, 'BGAdga251BM8EC2': 0, 'WTJXD1TL1BJcb25': 0, 'Qq9168Os1BMmQx2': 0, 'r6opBQHI1BM9Ln2': 0, 'vyJAydaB1BFwcS5': 0, 'Agq6buxc1BlW6r5': 0, 'VVLG8B8W1A9pAv5': 0, 'wRVqGXEQ1BMyx55': 0, 'VnTHUTIn1BMo942': 0, 'vjukd8Ep1ANQXJ5': 1, 'Wtgnga6m1By8fp5': 0, 'QsamkhX91BHXR75': 1, 'QUgmx57x1BM7Q12': 0, 'rdaJoMpd1AJcoA5': 0, 'r15pEZTi1BMsyT5': 1, 'Qtu8zclN1znQkl5': 1, 'Wpv2V4rz1B9l5d2': 0, 'VRidD3Z61BMINK5': 0, 'A1Fxs5Ag1A8vuB5': 1, 'WxZI1pH31BE8u95': 0, 'RhcAKh6i1BGUGA5': 1, 'WRoTINWe1BMN9Q5': 1, 'FZua0Uxl1BMOYm2': 1, 'WjPozyoS1BcAwG5': 0, 'BGzcdCYc1BMoP72': 0, 'WidDw5Gf1B7VVi5': 0, 'zqDY7ZLG1BLmC52': 1, 'B3XFOsHt1zP4DE5': 0, 'RcTSaSAYAkEeGrLD8tj0JQ7SoRC4jsJN': 1, 'znqz1JY51BMmy05': 1, 'fvB81DCI1BMaDP2': 0, 'R0hAO3n41BCIGv5': 1, 'wtXgv9Vy1BKjqv5': 0, 'wTmwTv8I1BMbDO2': 0, 'ZPU8hy9n1BMc5v2': 0, 'WdFcTHI21BMtC52': 0, 'WY78l8Oy1B32175': 0, 'RRhP7AZu1AW5Vn5': 1, 'Q5EnGgDM1BhWjo5': 1, 'WcgdkGIQ1BMDf22': 0, 'WIiYrHvN1Afwcq5': 1, 'g07DrnGU1BLE0X5': 1, 'W5wSHxCK1BMsAs2': 0, 'AE7zNaSh1BMrGu2': 0, 'gAzm2a8S1BIxC05': 1, 'WlcIhdHf1BLOTC5': 0, 'RTXwl3iw1BpZsY5': 1, 'BhDTfoDr1BMPm65': 0, 'REEeSkZF1BM4rv2': 0, 'WR2CYTVQ1BM2nn5': 1, 'RIRoYnVj1BMpBT5': 1, 'RBzruDpf1BM0DY2': 0, 'Wvjj7lXH1AcwPl5': 0, 'QYh5aLu61BM1Bx5': 0, 'A3JIbz761AJ8Cr5': 0, 'RtSjLEjv1BMoXq2': 1, 'ZpfC2JJq1BxQBO5': 0, 'vXlkobA41BM19n5': 0, 'AuRamyuA1BMJkI2': 1, 'rMYpQbsq1Ardk15': 0, 'g6uTAWNA1ANb2d5': 1, 'QW5fjLE21BH3B35': 1, 'g1DPeDI11BHOyi5': 1, 'FztYhncS1BMubM5': 1, 'RnkXEUd11BMcRo5': 0, 'Rqyl6JLM1BMnQo5': 0, 'RAyt1n8n1BM6DS2': 0, 'wojrdqup1AZVyC5': 1, 'ruX7vDYk1AApPC5': 0, 'ViXAEvT51BxTNJ5': 0, 'W9ggYZtQ1BMqRD2': 1, 'Vzxc06YC1AN6WI5': 0, 'Wn7Y0Fu91BMyhV2': 0, 'g30TxF1W1A5zip5': 1, 'WoX78dql1BM4S95': 0, 'R8LGO9XO1BMj4K2': 0, 'ALAKYufF1BJZeB2': 0, 'Zp55TL8J1BMmr25': 0, 'W7BFPAq41zDpyN5': 0, 'vksYxtk71BqBWj5': 1, 'Quh9lgzl1BMagm5': 0, 'zvuI7hQR1BE9sE5': 0, 'W3ZYJvUQ1BMucs2': 0, 'RukXNrFv1BLPIq2': 1, 'W7i1uW5C1A4HUY5': 1, 'rnegUVaP1Be3NF5': 1, 'zSI5e7rr1BKyVn5': 0, 'q06QaaY91BMmUf5': 1, 'rqIAinu01BDpqe5': 1, 'zOeS1qDpOcS7j8cWOzPpOBh9igKiwivH': 0, 'VJiAeLHL1BLNns5': 0, 'WpzmtuPo1BMkfk2': 1, 'rpfSnh3k1BMfV55': 0, 'WBF9qxjj1zMxmP5': 1, 'ZUqzqGES1BMKYo5': 0, 'qrQOHyoQ1zFyYL5': 1, 'AdLIMIYD1BuDiU2': 1, 'WgbmO06X1BLNmL5': 1, 'VRpMqX9i1BKEWm2': 0, 'vVeRRq9Q1BwxQq5': 1, 'vLdmrHKE1BJvsw5': 1, 'rCghegvN1BM20i5': 0, 'R9hBVQrR1BMnK82': 0, 'WJwUWKFr1zOBp52': 1, 'Rjk58kdq1BM99Z5': 0, 'wqrBEsjL1BKAtz5': 0, 'QRj2BYI41Bwywl2': 0, 'rwPsJvmU1BLJo82': 0, 'AOMhmBYt1BMJBJ2': 0, 'WDSGXfnt1BMocM5': 0, 'AwOp8OaO1BMLeu2': 0, 'Zv9ImYb81AUS6O5': 1, 'RLpjAOSL1BMvcJ2': 0, 'A04D5V1u1BMxaV6': 0, 'woRNWqSo1BMqER2': 0, 'rMXdZsXg1BERmv5': 1, 'R4wsAyly1BKYv95': 0, 'qQBzCg501BkPi55': 0, 'vRc4HqgI1BMmuc2': 0, 'wacZlqNh1Bl5FW5': 1, 'wH0dlIPZ1BHO4P5': 1, 'WUClN8xQ1BMbGl2': 0, 'VQaBXITM1BkzrL5': 0, 'qyBnDYB91BMCPN2': 0, 'wfwUF5Vd1BGFgr2': 1, 'BqjDGcFm1BMtzM2': 0, 'W0F73CNI1BM8Gh2': 1, 'BqhDMjQy1BMkMg2': 0, 'A03DUrQz1BM9SQ2': 0, 'wbWWkL0w1BMq8X5': 0, 'ACawOSYA1BsPrc5': 0, 'RagSGMp81BMNdx2': 0, 'VU9KOQgp1BbV5y5': 0, 'vGQWymI81BDiCq5': 1, 'zUdEG1O61Bo5gV5': 0, 'Wy10fDIa1ADsur5': 1, 'RLT4axXM1BqWcx5': 0, 'Q9QRGy391BtQIQ5': 1, 'VUOAvH5I1BMkFH2': 1, 'VwLNmpSH1BMurF2': 0, 'VzB3Y4cL1BM4QY5': 0, 'BaxVno3b1BMqsA2': 0, 'VKuu8z6a1BMcRJ2': 0, 'reTZyBy21BMrsn2': 0, 'WNRFJl9O1BM3tk2': 0, 'rGjjgMHD1B3ONn5': 0, 'ALSxr5931BMuTm2': 0, 'BoMsIYqa1BDho55': 1, 'Wxp6oLx41BJPGf5': 1, 'R7sa9T9c1BMbpJ2': 0, 'ZQsFa11h1BuIMO5': 0, 'WFDTDKQP1AdXyQ5': 0, 'vOL3ZEVv1BDmQL5': 0, 'vzyMbjAE1B9Iyk5': 0, 'qXAOQWaG1BMzsB5': 1, 'zOFFOOYR1BMpYU5': 0, 'VMvnPyOO1BM7Xq2': 0, 'Qrd4002a1BCbrm5': 1, 'wRVS3dyL1BM8US5': 1, 'B0jSr8hO1BqCAc5': 1, 'galmgDeU1AKAAH5': 0, 'VUDXYgay1Bw88R5': 0, 'VQZjOCNu1BtJTI5': 1, 'zvvJoBOU1BMxOp5': 1, 'RnuUOV5j1B6fCf5': 0, 'WtZr2Gml1BMaIE5': 0, 'WQF1MwHu1ATDnk5': 1, 'zpAv6NCh1Aspih5': 0, 'vP3doOia1BL2cr5': 0, 'RAbXwtOJ1BIsR05': 1, 'WDj7ArHf1B9ckz5': 0, 'Ww6kb09D1BM9Yu5': 0, 'GCoEORZO1zWf3e5': 1, 'wmfrEGxP1AJTF55': 0, 'AXkA51DJ1BMQCm2': 0, 'QS9Jnyre1Bzq2z2': 1, 'rhJcwbkO1Bo4ZD5': 1, 'rOiau9pJquU0YRpMYYR4ElY1ibePWz1p': 1, 'wSjAjT5c1BxECT5': 1, 'Wai73uvp1BLNbf2': 0, 'G8Q0aE4P1BMqQH5': 0, 'rpAP9qvF1An8yx5': 0, 'A2m8eJO71BM9DP2': 0, 'vkwwRtNf1zRhlQ5': 1, 'whcuo8nr1zxiHb5': 1, 'Wbeli3fO1BLZcB5': 0, 'Wqz1Vh1o1BM88C5': 0, 'Qru0OSv11BMjrP5': 0, 'AjwdkhuH1BMaJs2': 0, 'Q4okHJhd1BMyde2': 0, 'WQmXmP4i1BMcxx2': 0, 'rQAj1uPg1BKFfO2': 0, 'BoadqSGZ1BMakM2': 0, 'rfjK1sh51AKAIe5': 1, 'wKBrd3Za1BJkDr2': 1, 'B04cTfPpkWYCDS9yd2ShENSLvFb1F6FL': 0, 'q27jIVtt1BAYYK5': 0, 'vVie7YAV1BMqGY2': 0, 'WDFCRdQe1zP2kd5': 0, 'BaChiA0o1BMJ3Y2': 0, 'BdKcsiu41BxtBr5': 1, 'AFIkSY0r1BM8c82': 0, 'QXXNnlDy1BKdw25': 1, 'r2OH1qz91zWJgQ5': 1, 'wVKozUxz1BM0hn5': 0, 'WpWkI1R41BL07J5': 0, 'wWrTQi6E1BMjkR2': 0, 'AkPWQiPE1BMiau2': 0, 'w3BkE5ZQ1BcAgs5': 0, 'BqPyokHE1Acifj5': 1, 'QSiI6y6q1zMv7k5': 0, 'GcC29u5K1BM8gl5': 0, 'Bm5i2Wke1BtSsC5': 0, 'WOjroE0w1BIUjY5': 1, 'VIZFYjnv4iU2UXDVjGYGcWQoz5eW5So3': 0, 'rnIaTwvt1BLkQl5': 1, 'Wt4ijZGh1zzCz65': 0, 'wFjp1u1o1BHqYz5': 1, 'qPDSnDTM1BMP4J5': 1, 'WcrEhjab1BM4Y42': 0, 'GbstW8if1B4xPO5': 1, 'Qve9aYp91zzUnC5': 1, 'VJWs9Txc1BMatX2': 0, 'R9cDiCOn1BLdgf5': 1, 'Whyg5OJX1BIbQv5': 1, 'wqeJNPQ61AwMSC5': 1, 'g9bDKtnI1BBl845': 0, 'WbuTv5ka1BMMmy5': 0, 'r6uFqkbu1BMiEu5': 0, 'VZDt2qcc1BFmBl5': 1, 'wf9jZQIP1BM8mH2': 0, 'R0LdNi3V1BMc5p2': 0, 'FxqtnMDv1BMQPk2': 0, 'wWvkhbbC1BM9zs2': 0, 'zn41sFSl1BMmn22': 0, 'g3Wxlzr91BMLLW2': 0, 'zVqPkcZi1BMlvA5': 1, 'zRZbEMBH1BAQxr5': 1, 'RFm7ejJ61BoSl85': 1, 'G1HUFiGX1BkPEc5': 1, 'qPntkVP71BMOPB5': 1, 'zR79p05c1BMObJ2': 1, 'vx4FMNsk1BMax35': 0, 'Bjft5cRq1AunzT2': 0, 'qp8qXxjU1BM7SS2': 0, 'AigZmitW1BMNAS2': 0, 'Aikll5BF1BMjNJ5': 0, 'wkYmL1Iy1BAmWx5': 1, 'Vp8oy8lN1Bs9Ky5': 1, 'WFB5xvO01BsyyZ2': 0, 'BCDWzKvG1BMa4n2': 0, 'w4ShkB2G1BMma45': 1, 'VI8ZJFs31BM6Ad2': 0, 'w4jMcxUX1B9DiP5': 1, 'AIdgtfix1BM99M2': 0, 'ZUVcoekx1BM68y2': 0, 'AHijfs1f1BLo1i2': 1, 'zp4wY33w1BMpyW2': 0, 'WCO10JB01BLlp35': 1, 'WUnKhIQA1BsA3a5': 0, 'g4FsYQX71AZrbj5': 0, 'vSZ3ZlAi1BM8KI2': 0, 'ztbLZN9w1BMjbE2': 0, 'BmsYFBKO1BdaO55': 1, 'RmtpGQeX1zsWF15': 1, 'Fz9ZHMp51BM4Wl5': 0, 'r24op22O1BunLZ5': 1, 'A58LaNP31BMbIE2': 0, 'g8nLOCdg1AJCGu5': 0, 'ZVTztquy1BM7jr2': 0, 'WFgvm0ph1ATGxm5': 1, 'ABwpqKRf1Bz2UG5': 1, 'zRRabnuy1BFsjp5': 0, 'rNpsHoYW1AEwLu5': 0, 'wBzl56oc1zrvEo5': 1, 'RV9obCZU1BvLeD5': 0, 'Ag1QF0Hc1BMuDf2': 0, 'VHwu1ng61BM9of5': 0, 'Qpu2EAfQ1BMm5J2': 1, 'RKOYw5sY1ByIY22': 1, 'Gb2slQdR1BMwHl5': 0, 'Ax1VYTbg1BMoDx2': 0, 'rcJDu64e1BAcO22': 1, 'Rszg30Y11BMvOw2': 0, 'g9nxwxLF1BF5WL2': 1, 'wdtsLk8W1BHO6b2': 0, 'VHz6fkic1BKUwI5': 0, 'QRkstXPN1zG1fk5': 1, 'wsWNDO6k1AXCV15': 0, 'wpgBplTJ1BMORX2': 1, 'rAVgLwLO1BDAZe5': 0, 'R95KtvoQ1AsWvW5': 0, 'VmEkw0sR1BML1e2': 0, 'A5t8zeph1BMqBF5': 0, 'APlqXoMg1AcwZy5': 1, 'G6yvLRud1BJylQ2': 1, 'VLAqFS651BMoL72': 0, 'vqNPYjndiO2K4NcidiUcuMIcTY2nTKZ8': 1, 'RhE0MivB1Bsay25': 1, 'BNeZ8XgW1B36rp5': 0, 'ReKxr3i91AUv6d5': 1, 'wK7ogdXO1BMDSw5': 0, 'VtsbGshE1BMl9k2': 0, 'VYZZcuZS1BMqy72': 0, 'W5X3YTXO1BMpgi2': 0, 'zPZbXMqN1zXgie5': 1, 'VU8l39sU1BMpqT5': 0, 'FWMXafki1BMJsx2': 0, 'AWfp4ztq1BMHc22': 0, 'A919aKwiqnBd0plwT3izfU0NhGRKnX6z': 1, 'B8AaAmh31BMdPh2': 0, 'R7Jr48Oy1BMxAO5': 1, 'RArdh4lc1BMcVx2': 0, 'Zwgnb8Pe1BM0FX2': 0, 'A2Dsv7RE1BDqYt5': 1, 'RartE7uC1BM9LX2': 0, 'qUaYmfCb1A4D3o5': 0, 'rHDWjoiI1BMnM22': 0, 'AMrlahXF1BdClC2': 1, 'vyAAuMo81BH2sd5': 1, 'AnTIjUWG1BDNX85': 1, 'vyJVieoa1BMsIL5': 0, 'zMUq28w21AGgwe2': 1, 'ZPkZIRKQ1BAMXW5': 0, 'AY6OWX4i1zHzAQ5': 0, 'VLGY20Zs1BGvV45': 1, 'VtkRv2V91BM9rd5': 1, 'wnnBVoN21BM5eR2': 0, 'qxDZeVmG1BJQPj5': 1, 'rvBGDj3p1BMrvI2': 0, 'Al4P3B6w1BMdtc5': 0, 'rBIOeKLz1BM96t5': 0, 'wf3WSr7F1BMGKT5': 0, 'AAD2VmOH1BMwW12': 1, 'wTOVJ6xU1BM7w35': 0, 'RKRK1Pte1BwXnT5': 1, 'ro6Az9jx1BM1WF2': 0, 'WjvsFtG91BM06K2': 0, 'G2l0GlBb1Bwpxf5': 1, 'wUIZUK8R1BMDBs2': 1, 'QxNB4bGg1BH1Xz5': 1, 'WEM5tidY1BMngX2': 0, 'QY3ONjDv1BiPYt5': 1, 'VHyOyWcCTwVwZeJyXZH427pWsWKNWbsg': 1, 'RANcmYGa1BcawS5': 0, 'AhayJdxa1A3v4v5': 0, 'vpetXTpN1BMt1P2': 0, 'Vhb3i1SC1zSZVA5': 0, 'qQbriwtZ1BLIff2': 0, 'Gb1EZjdO1BMaJI2': 0, 'WCy6fRHY1BEoUX2': 0, 'WqdFTpNQ1AFYt65': 1, 'G0GCyqRk1Ba51g5': 1, 'ZSwj77bv1BMwD72': 0, 'WH3GDa5v1BK0iu5': 1, 'fxFkmEDe1AI6II5': 0, 'w0ER8rln1BwRng5': 1, 'FzP1EDG21BLTbF2': 0, 'r2babNaM1B7OFR5': 0, 'AdVAGNH01BMm7u2': 0, 'r1aEbvih1BM4Xc5': 0, 'r4hGmDUM1Burdg5': 1, 'rFCDzggW1BMlF42': 0, 'GBT1NRJY1BM6fj5': 0, 'rusTqz75iEFScao0z9ti1AgDEOWperP1': 0, 'rhUZigaH1BKFi75': 1, 'BT50R6Qw1BMqhl5': 1, 'gAGOFJsL1BcBsU5': 1, 'WIfzZm0U1BHkwx5': 1, 'VlXmtZLF1BM4Ze5': 0, 'rGbkm76421xRPvwBWd1dbspgVUoOj8jK': 1, 'Rhhcc2311BMnho2': 0, 'BSm041gD1BMkNP2': 0, 'B9pJnQTI1BwNxE5': 0, 'rcFmC1JP1BM76K5': 0, 'FvIMrHQk1BnrqL5': 1, 'VPPA4CmX1BugZy5': 1, 'BgVViLd71BMzJy2': 0, 'Wg2QUY1s1BasoP5': 1, 'q6bAfwmg1BMmq92': 0, 'r1MezVIf1Bhxrt6': 1, 'vmf55JVC1BuiJY5': 0, 'g3w9AsiW1BM7w32': 1, 'vs7Q55Ab1BD9Go5': 1, 'AcDbgcch1BMiUp2': 0, 'AZBHupba1BM7lp2': 0, 'zQqUOg6d1BMGwi2': 1, 'GAFh7aMH1Bzspv5': 0, 'wsNfMETb1AgjNr5': 0, 'wqJwRqSD1BEvs95': 0, 'zQSb9xbX1BMmE65': 0, 'WVbncmTT1BM2LP5': 0, 'zt8rQsIm1BuVxl5': 0, 'WPlLFQjl1BMN382': 0, 'AtGOWVZf1BLjrK2': 1, 'VuujW5f61BlTna5': 1, 'q4AGzS1a1BM8J12': 0, 'wqkdEX7A1BMnlJ5': 0, 'rfX22nrk1ARbPZ5': 0, 'B1sX1hwa1BMauY5': 0, 'Wd1tsjPR1Bx8Nr5': 1, 'vk1WhQROOaoy4ZALy7opLpEZhWC1GxgS': 1, 'vhfSDkyb1AjibQ5': 0, 'RjMCFkE11B3zIi5': 1, 'vilqZOQI1BMbai2': 0, 'QSL4jvQk1BMelM5': 0, 'QP655HOF1B4tPp5': 1, 'VKH7pejz1BMrxz2': 0, 'VL8wUS7q1BGHkV2': 0, 'WE1trqJjDrCYvW4bo5whRMPpvChRUBHh': 0, 'w7HS315a1Bn72R5': 0, 'G0mjg96A1A4z1p5': 1, 'GbFWZZxQ1BMkjE5': 0, 'Rjw3Evyk1BMdxC5': 0, 'vzyuFUlL1BdiyH5': 1, 'QwHk9b6V1AEqMH5': 1, 'rGoHAdWO1ADNeS2': 1, 'qZfpYTat1BIKg85': 1, 'vGXfAE2w1BMwJl2': 0, 'BMjPBNTk1AOWPF5': 1, 'qRQUXTOs1Bgho65': 0, 'W9k6BiC31ASY4T5': 1, 'wImEdd0O1BM6ye2': 1, 'W3rDkU7Wh6yeuNjBqCgtnnDfpx6BpgoD': 0, 'QtkSTLCB1BIsFK5': 1, 'wuJmzjv41BIctj5': 0, 'vucON95j1BM83u2': 0, 'wd4FSvBJ1BBNUK5': 1, 'vwzUZmXA1BMayQ2': 0, 'rUcoRMHx1Ak9SX5': 1, 'BKrmTGPK1BMn4W5': 1, 'ZUUy97hQ1Bwtlc5': 1, 'rcnd53uk1AbZg15': 1, 'qxbq9Knm1Atzyw5': 0, 'AnNdwYiA1BMJDw2': 0, 'rT11V7wx1BkBIO5': 0, 'AvbJrCrz1A5ikW5': 0, 'RLFsETGD1AqMyr5': 1, 'rjZUsT2i1BMalK2': 0, 'wWVrBJXs1BL6uj5': 1, 'FXYoNBlF1BMs162': 1, 'vUR0JqE01BMq6l2': 0, 'RIncB32I1BMoqi5': 1, 'AGlQQtwS1BM9es5': 0, 'Q4nwk3Gh1BKCS45': 1, 'AGIKzXTx1BMMk75': 1, 'R55b6IWA1BMvBv5': 0, 'B2Gzgoej1BMuEH6': 0, 'RMo7Cxzi1Bgf8d5': 1, 'RcL8f27D1BjLFK5': 0, 'Wu0n3lMc1BM6wl2': 0, 'A9UPpfah1BFECb5': 1, 'vjnJV1Kw1BMPKl2': 0, 'wY9hVh2d1A2SeC5': 0, 'g1LD3KLE1BM1rl2': 0, 'wo4ji8p11BE3l25': 1, 'vx8nWzZY1BLSog5': 0, 'RRYGKzNe1BMa2z2': 0, 'VXHWYz8a1AB7WM2': 1, 'WIfRaL261BxAoM5': 0, 'rNozYJSV1AYgIa5': 1, 'WoClX0hw1AqP1h2': 0, 'rpmRdl6r1BqIhj5': 1, 'g9FbT5GAvfhYXIYrLDN8hGIJPeOvdRye': 1, 'rHLEe68s1ARcUj5': 1, 'qzB9LwtK1BMuy72': 0, 'AtRPmo9f1BJSDf5': 1, 'qQFc4uYm1BMKVR2': 0, 'WlpSX49U1BKbiB5': 1, 'rCdOqdol1BM8EJ2': 0, 'WR9mS5LU1BrSHM5': 0, 'wQZvdjMQ1AGpCx2': 0, 'fZwn2wWq1BMeBH5': 0, 'r8MYOFW11zEzdd5': 1, 'WRuANbBL1BMn8X2': 0, 'WonGkCh91BnqcG5': 1, 'vktEJ73Q1BMug82': 0, 'rHivHr0G1BMttj2': 0, 'RchaJXZU1B0bPK5': 1, 'wtxAI8301BJFCm5': 1, 'rJpYq6zl1B9yaH5': 0, 'wb7GFvQJ1B0hYM5': 1, 'wLfl2Eza1BMyok2': 0, 'vnkbQOvpXnBFE61qpi6GQspOTSdxRr2E': 0, 'Ws9D27sz1AjbRt5': 0, 'W9GfOapB1BKu0w5': 1, 'rgkly6Lb1BB7fs5': 0, 'Wxm03FDN1BgZic5': 0, 'RMVQlQRr1Bi5Jf5': 0, 'AnQ6ESQ61Aoc4F5': 1, 'RTTBZXfm1BMrt65': 0, 'VIjgmRfo1BMcRS2': 0, 'ZUNeBSlA1BMooM2': 0, 'zUfMQSu71B38jo5': 1, 'ZTSOIN8Z1BooIp5': 0, 'RQEivp9P1BkYiO5': 0, 'RsRfgh3v1B92BJ5': 1, 'VUbqbYjj1BMx675': 1, 'zW7xY5c91BMaZA5': 0, 'vud2l2em1BsRks5': 0, 'WTjLhNuA1BCyBW5': 0, 'vWX6noiG1BMNep5': 1, 'AaMoWZ0i1BM3YG2': 0, 'vjy8t6bT1BM9zZ2': 0, 'VMXNWjYj1BMGpj2': 0, 'rIcL5uqV1BMsYC2': 0, 'AyyYNejI1BMypa5': 0, 'AIwxmjLn1BMCQi2': 0, 'B6MHb4ZP1BDFEq5': 1, 'RgL8LXyb1BuAUy5': 1, 'W9uItjar1BCynb5': 0, 'R6oQa2GG1BMMM95': 1, 'AMzoHgJo1zzHp05': 1, 'RQkMZUZe1BI0UM2': 1, 'q5N116GQ1BMdbf2': 1, 'VVQ6gUGL1BM8Lm5': 1, 'A5xOTqVS1Amd7F5': 1, 'viYLTDxE1B9AUu5': 1, 'qb2t7Ilg1BkaEy5': 0, 'VKnyAdDs1BgRL35': 1, 'VnN6zg6r1zLlRS5': 1, 'w7NDdFH01zvseu5': 1, 'wCzXgM4Z1BMcpr5': 0, 'WVqJe0Xz1BH3Pg5': 0, 'BPXhjodA1BMq0f2': 1, 'R7FJCkge1ANWJf5': 1, 'Q8YghwIE1BH49S5': 1, 'WLmIlHaY1BFgyB5': 0, 'AHAT7rx61BMrG92': 0, 'BpHzGa1b1AbXJP5': 0, 'BIuv0zAE1BLRsg5': 1, 'vzWrKtkn1BrlWj5': 1, 'qu4Z0gyTXlYkt08UeQuM8Oleh50eFf8l': 1, 'Q3KIMpen1BMbEM2': 0, 'G9H8MqIk1BIQr85': 0, 'W1LzOgzH1BMNpp2': 1, 'B64BHV1v1BM4BD2': 0, 'r1EnexFE1BMgEH5': 0, 'AT2FYXFZ1ATlJe5': 0, 'fYQ7kkeF1ALMdv5': 0, 'qwhrsuYz1BMxAF5': 0, 'vXU0WP8A1BM60K2': 0, 'Bl8TBiHJ1BtpSJ5': 0, 'Q71suKzJ1B6LEv5': 0, 'WMW6SIZe1BKLSo5': 1, 'vRqh9Zd61BM3PD5': 0, 'BG7SjKA21BuLQG5': 1, 'vIZvughTQ6aIGGO09Ux1FfsvIAwvFLen': 1, 'AcE7drxWsXOMPTMvKGWXlKq9ssEDqX1M': 1, 'vjxp4aHx1Astzo5': 1, 'w8umKF0T1BMyL62': 0, 'B7sjGPuD1BMozg2': 0, 'rvTjjoAm1AJTZx5': 1, 'ViRWcVJ71BMcYh5': 0, 'RdSlWOlN1BMtlS5': 0, 'REInZTyX1BMxe62': 1, 'rQ9QWdAT1BMwRx5': 1, 'rNUkvNRR1B2vnj5': 0, 'VSmsuQLi1zHoRH5': 1, 'VZ0udpKf1BLEqG5': 1, 'QaUNSQPT1BbeaW5': 0, 'g7ZYJoVZ1Biklu5': 1, 'Vr5QM5Jy1A3PfF5': 0, 'ztniSkpf1AJxka5': 0, 'zOInRjY61BzwE25': 1, 'vvIJbRBu1BM7Ga2': 0, 'vxe4Aqve1BM9oT5': 1, 'RBYg3St31BMcmW2': 0, 'W5WIIcP31BAcyP5': 0, 'g4OBmdjb1Aigru5': 0, 'BdygLYWF1AIUmH5': 1, 'ZvYyHsS31BJMfI5': 1, 'whGAIFTX1BtV3g2': 1, 'rA0KtS0J1AMmTw5': 1, 'r4qhc4lZ1BLHR15': 1, 'ZnP8wAxh1BMMoQ2': 1, 'Wsha2qx11BMsxM5': 0, 'wMIX1g701BzaIB5': 0, 'rRi5LVgw1BbC2j5': 1, 'FzilbhXn1BM8Fw2': 0, 'VOIcWFmB1BKhmf5': 1, 'rR8iX0HM1BEwXK2': 1, 'W2zRVpi81BLY4J2': 0, 'ROSNyFLA1zoWKP5': 0, 'BnoDT1Bt1BKII45': 0, 'BfgOyCkD1BLWyO2': 0, 'RhyoATzo1BMtgx2': 0, 'zmlomm651BM4Y42': 0, 'qrChX24k1BHqlv5': 1, 'Gc90Oc0x1zQO9M5': 1, 'Rvk1wrgc1BMID45': 0, 'g53MTe0i1BFwWn5': 1, 'RHXQIJOF1BuJi95': 1, 'RDOGWtV61BmP9Z2': 0, 'Aa8F01bG1zEVca5': 1, 'R6KTK5QO1BMs7t2': 1, 'Asm9mg5A1BLORa2': 0, 'ADowQbbu1BMfPL5': 0, 'g8CvXBSu1BJCS95': 0, 'RkLRclQqb7zWsPZXCEbrns4zumGJBBCJ': 1, 'AKeCOVxv1AR78w5': 1, 'BibpQ1If1BM9pW5': 0, 'VrTTHjPB1BvB5i5': 0, 'vu5IThjT1BoXOX5': 0, 'ZPbR4mg11BMIf25': 1, 'GBe4DTe41BcyK15': 1, 'rlAi8wN93hgezmuFnwKSvvbpJbBJH4CY': 1, 'G8CZNgfQ1zQSh65': 0, 'BsEiZ9y61B4gjI5': 1, 'zoDIAhWG1BM8LM2': 0, 'rrePmELw1BbBVp5': 0, 'AI7DIT0H1BMrmF5': 0, 'zvbycVkc1BrhBc5': 0, 'qy73RPbH1BMu692': 0, 'qqCTHMXu1B4kXu5': 0, 'RArMYg6n1BM7FO2': 0, 'wHOwMRtn1BEzf85': 0, 'ztvfYcws1BM9As2': 0, 'g7cdiFT01BMybI2': 1, 'BHn92gt81BM8rY6': 0, 'vjlxhV031BHs4m5': 0, 'VmaVu1zl1Bscq15': 0, 'VjSnHLtrZLAhNPcRurj6ExcbVAFFT3un': 1, 'r4LsJesz1BEe8w5': 1, 'RafMxMQL1BxMDZ5': 0, 'vVrtKgMX1BweMp5': 1, 'Au7ZpSlI1BMvoI2': 0, 'AniGWaG71BFC205': 1, 'q5vEamFl1zOzqX2': 0, 'zOv7t8T21BLJqo5': 1, 'vRVne4Dd1BMsoO5': 0, 'wBwkTNdU1BMbms2': 0, 'wbkPIFJF1Barqz5': 0, 'g12T84hF1BAV245': 0, 'AzSGyFPG1BMaSb5': 1, 'WhcC9WgR1BLQMb5': 0, 'RTGCt6ZJ1BMifg2': 0, 'rnq7rUfi1BMJMA2': 0, 'r8eR4nDu1BMOCx2': 1, 'Wa8QvwxH1A8S625': 1, 'QZmxz1ce1BMkDK2': 0, 'AnXtKRra1BMaFM2': 0, 'B5jXbs5X1BMwhq5': 1, 'GcaPmi8K1AyWT45': 0, 'ZSkS0bmT1Bz6x15': 1, 'AY9GdOjk1ztGOt5': 1, 'g8Ej8Y901BL4e45': 1, 'rhGgI3Ja1Bh2iT5': 0, 'RhstZSgc1BA99g5': 0, 'Vr6C7y9H1BMyHY2': 0, 'BOLJswjP1BMOrO2': 0, 'wI3HF8KI1BMczu2': 0, 'WRwZkEWX1AMb605': 1, 'qb5rCu9u1BMOZl2': 1, 'fzCWCwa81AhApU5': 1, 'Zrrns0lJ1Bdo305': 1, 'BGhEf6jh1BMOkb5': 0, 'VMbt31ld1BBW6C5': 1, 'WD9Ae0b01AuX6B5': 0, 'Bshi9JkzCZYDqSjyfn4dLiiqV4syI598': 0, 'Av7RwLtL1BMb255': 0, 'AVFjXOL41BMwtw2': 0, 'Bgf3ZmSF1BMwR32': 0, 'A2VNCBDc1BI1q65': 1, 'reobCSyd1BFFrS5': 1, 'BHHo5Gye1BFwQQ5': 0, 'VZUA327t1BMN9z2': 0, 'W60qLLKS1AlFeR5': 1, 'rG73nibf1B7xmG5': 1, 'vkbVIIwp1BMKC22': 1, 'g9uorQFw1BM4QI5': 0, 'A3bVx1T11BLTx65': 1, 'WPNfMlAs1BMu8S5': 1, 'wTgwQqtc1BMpLf2': 0, 'wsRAmm5Q1AnPvH5': 1, 'RW70mtBA1BMurR2': 0, 'RW1xJzX11BMp7R2': 0, 'vjwONu2m1A3XMk5': 0, 'zpxjpMNy1AuiYF2': 1, 'B4NEe9v01BMJqs2': 0, 'g44sU9vU1BM8q55': 0, 'Wlt1gwSO1B1gEt5': 0, 'WDfIpJ9E1BJ7SJ5': 0, 'qwzoPdpM1BM5VU2': 0, 'g58fMEEi1BBMGY5': 1, 'qtbVWVz61BM8Zo2': 0, 'VrFkqCz61BMMh02': 0, 'RSnpOtcZFNWcp3E9ZTo3RrmaJ3Y7L3no': 0, 'rhxmikOH1BmWKB5': 1, 'RFWrTlYu1zXk9c5': 1, 'Bb0vE5cP1BLNMa5': 1, 'Gcrvfihv1BMwXG2': 1, 'Vl04Mx931BMb7g2': 0, 'R0pjz2ih1BA2g75': 0, 'B52V9DuZ1BMa2c2': 0, 'A2HkZPkn1BpvvG5': 1, 'VsndqOcD1A8AYp5': 0, 'WaY4jHJL1AAoQN5': 1, 'WhUVjAkT1BMc4d2': 0, 'RMbS3wBH1BMddb5': 0, 'AAOnpE891BhSM45': 1, 'rwpFgrCu1zBt545': 0, 'vWeMud5V1BMyma2': 1, 'QuI5P7sG1BoBus5': 1, 'RIbMhsGw1B2p9F5': 0, 'ZQasnxEk1BLDLB2': 0, 'BOFUmuNl1BMkAS2': 0, 'WWpuP8zm1zwKbs5': 0, 'wjQo0G2g1AYU2A5': 0, 'rHbhzx1oJMJMR7gd0J1hBxaMonADiig1': 1, 'AlGylYZ91B9UaK5': 1, 'BekLXUjv1AZJCO5': 1, 'q7qNPPwu1BMzF06': 0, 'wmE8dewL1BLOmF2': 0, 'VRz9HFM81BEr765': 0, 'g9QDOvQM1BM7qS5': 0, 'AQLqHEvX1BLnIp5': 1, 'vnMPCPuT1BMwb95': 0, 'GB6sUoik1BJTIk5': 0, 'rgxZpLPM1BnfAc5': 0, 'Vx65yIWz1BHSx95': 1, 'G1dhvwTI1B45yf5': 1, 'VPGqpAaM1BFYyf5': 1, 'WCAQchXf1BMaMs2': 0, 'VWKu5RKy1BzphM5': 1, 'wY9oOKXC1BwSVl5': 1, 'BA0Q9k0P1BGDyo2': 1, 'FVb73E7X1BMycB2': 0, 'qzMnBO671BMo3B5': 0, 'voGhpSbN1BLLQQ2': 0, 'VoXkSIU31AWwnb2': 1, 'RB3emS9P1BM9Xg2': 1, 'rer92TTA1BM3K42': 0, 'rmwx80jQ1BGX1y5': 0, 'QAafxXTl1BM9hD5': 1, 'AhPaaLjM1BMbJF2': 0, 'qakOLREM1BLXoM5': 1, 'WpUidKQk1BKIT25': 1, 'RLHN1Vk91BbIQk5': 1, 'AfrM3bYg1BMJXB2': 0, 'RC0bR5hm1BFfsh5': 1, 'r11ejw1U1BKHr45': 1, 'rcAqwEm51AQwSN5': 1, 'ZsnMY31Z1BtxlR5': 0, 'g0weLKxh1BM3Zm5': 0, 'WICbbV0H1AZuKS5': 0, 'VH8e8hPS1BJ8A65': 1, 'qywr2LNI1BMeNy2': 0, 'Vx5uIXgV1BFWKp5': 1, 'zmRqtLTu1BMJlt2': 0, 'gbdplUAy1BMnmc2': 1, 'rf3FeCuF1BM7kq2': 0, 'Gbb0G9bZ1BM8Ci2': 0, 'vYjpJILa1BMwNp5': 1, 'BPmPI8001BMsIa5': 1, 'WsuP1cFn1BJYGv5': 1, 'zoOjDSNp1BMggv2': 0, 'G7ILtDa31BwXhx5': 1, 'qaYSpRdq1BqDGF5': 1, 'BiSyaEpH1BHs2P5': 1, 'FZRY65XU1A405M5': 1, 'QUsYUuim1BMpci5': 0, 'weVqUCw31BGWoq5': 1, 'Akl21Ed11By5XD5': 0, 'BTmP8vCr1BM8tj2': 0, 'Q4czKxhE1BoZip5': 0, 'zqt0g3be1BMMAA5': 1, 'ZMUX2W8V1BDDoB5': 1, 'VLdrDkrZ1BM4T82': 0, 'BRkQOphF1Bcs0H5': 0, 'fZlquPN61BMci52': 0, 'BmJwNfU91BuTLL5': 0, 'wAA7GQZL1BDxzh5': 1, 'wJgyG4151BMqfh5': 0, 'RpEBGyxd1BvlyC5': 0, 'rOwrGsyg1BMc992': 0, 'ADMEUt2D1BMGwN2': 1, 'wQDXIFZS1BJTRU5': 1, 'vrufEVDu1Byztw5': 0, 'WfhDHBVz1BMiZK2': 0, 'r6A32pbX1BM07f5': 0, 'R98b5Mzr1Bi1nb5': 1, 'VOLYlbqD1zz3jr5': 0, 'r6nsQXI51BMLJy2': 0, 'wvQW5hXG1Bza8h5': 0, 'wuRvVBCu1AOZkh5': 1, 'FXtDMdfM1BGDNo5': 0, 'rlCDZMai1ALhom5': 1, 'wL8yAVlD1BMJJU2': 0, 'qSMo3gJC1BMvzV5': 0, 'rTbErKKB1B4ahq5': 0, 'VpnopPCk1BMcws2': 0, 'W51vEgxE1BMPAS2': 0, 'fYbvI4k11BM6HY2': 0, 'qYFurBjx1BMaQu2': 0, 'q4dwFh8Z1BlVyN5': 0, 'RfILEZiS1BMmwI2': 0, 'Qq0WtvWw1B7qmC5': 1, 'zRm9pJQR1Bgem15': 1, 'wBrAJrh61AfAeB5': 0, 'VNUW7dRs1ANqe85': 0, 'BMvGuS0W1Ao73H5': 0, 'Vq2C9u0u1BsbPF5': 1, 'wOnr5rke1BMGCv5': 1, 'Ad5HC2CVKnIK6pQc0Pd7gPqmtLc31CeX': 0, 'VNyyIVf41Bh3co5': 1, 'rtHMOVvr1Brs2u5': 1, 'g6rJPqKY1BDDhM5': 1, 'VT8pdysN1zvRqK5': 1, 'vNGkqbXk1BMKjd2': 1, 'REon76Ro1Bk6t55': 1, 'vJw519D91BMcdK2': 0, 'fWnI6lRv1BMbkW2': 0, 'rnWS78W61Bz3Lj5': 1, 'ZocSjrFj1BMbzY2': 0, 'vQ0m53Ax1BI45J5': 1, 'wBrcXMEV1ArRsk5': 0, 'VNcIDO0s1ABccP5': 0, 'ga4nrcT71BMrLz5': 1, 'qQKiIzQH1AfsXL5': 0, 'ruE1v11v1BMHIh2': 1, 'VYo5NcHa1AfU705': 1, 'Q9dqJzfN1zRvfP5': 0, 'WIqbzX441BMGml2': 1, 'R9gvo8tC1AFFhj5': 0, 'WgTnLM2L1BMqbI2': 0, 'W6xg92mB1AvRLa5': 1, 'QWbykDVS1BMaD92': 1, 'WCeu93za1BMnQx2': 0, 'AE2ZPwdF1BMAdK2': 0, 'Vw1nFgNH1BCHSx5': 1, 'Fwb0VEjS1BM8I82': 0, 'gBr8fmVa1BMbRD5': 0, 'w3cgOQxl1BGX235': 1, 'WUID4J3BPsjRpZnjgyFStI9dZz0xXTT3': 0, 'rbA9iZRM1BMeHN2': 0, 'RTaQiOVP1BIsBP5': 0, 'qQCLjwXM1BM7yK2': 0, 'wkdcU3ih1AlUyW5': 0, 'gCPLgat41ByODw5': 0, 'VmTJWZu51BkPlR5': 1, 'BBR91eEw1BDCxE5': 1, 'vNP3hIFNxENRBaNyKEH1oaMigwuNKyUY': 0, 'wieTWpLx1BGiWu5': 1, 'zPBBaCFA1BMuHC2': 0, 'gajvbMiE1AuEpu5': 0, 'rufDnv141AyEcO5': 0, 'VIEaQ5Ey1BiHhl5': 1, 'Wy4dICb81zTjZi2': 1, 'R1F1a6FR1zLDZB5': 0, 'ZQoOV2fx1BBgyJ5': 1, 'qv7ft2Dt1BMhQZ2': 0, 'vxT6WyhM1BLtE95': 1, 'Zp1j3ZGn1AVxHA5': 1, 'rinx4MFS1BMceM5': 0, 'Qz3igiOl1BMoBX2': 0, 'vMU6cNT91zvyrI5': 0, 'A6PMBZOC1BMr1w2': 0, 'AovJr7TN1BMtkQ5': 0, 'As3rZLYw1BM7q35': 0, 'w1tPRHpW1BehxZ5': 1, 'WnC5dHGl1AJJ5E5': 0, 'QAr7G9t41BIRoS5': 1, 'BCcdToTa1BJwMo5': 0, 'B6ohYGtm1ByFOI5': 1, 'BMINJmbA1BMx892': 0, 'W28d25LL1BMOr72': 1, 'wUBFp9ND1B2O7H5': 1, 'BDCb90TA1BLgGH5': 1, 'qB1Kuw8K1BMkMb2': 0, 'g12FAViV1BMr8G2': 0, 'weiY0HphjSrbWLBumm8vTNzSQIAxw9T7': 0, 'w77GpP1o1BJRKR5': 1, 'RehuTeXf1BKV2b5': 1, 'zVmAlEl41BMl8g2': 0, 'ALis2oIu1BMo275': 1, 'QRSeSh8O1BEuHd5': 0, 'WbkqlfzJ1BDsW85': 1, 'WSQuGUyc1BMx7L2': 0, 'VN5IQxh21BMctA2': 0, 'GbzaUi661A4xGc5': 0, 'ZncSuVAK1BMxW22': 1, 'vrt8Br3C1BMdmZ2': 0, 'A91mCNym1BMbCx5': 0, 'APFzIZjR1BMk1d2': 0, 'WdJonOel1AFpUv5': 1, 'rjschwQ8F8CLMzLplru1xLW8IDnpY0BI': 0, 'w8oH2uDi1BMAXJ2': 1, 'AVaH7GEb1BEGJx5': 0, 'W25xvrJJ1BMbcV2': 0, 'WjAgUPNa1BJEhq2': 1, 'RrLq4Nrx1BMlWi2': 0, 'FzA6fxdU1BM8jn2': 0, 'whwERCRP1BH0GW5': 1, 'We8Y5fJV1BMPzv2': 0, 'zsX3Qg1s1BMx512': 1, 'qwRTQ9Lj1Bpk3e5': 1, 'G9OmuhO81BMdH02': 0, 'G2cWq3Ti1BMJXB2': 0, 'VpoVzF9u1BLDN62': 0, 'whOehcSi1BDN7t5': 0, 'q20Pqxa91BM88C2': 0, 'wBKcC9HI1Apdos2': 1, 'w1bsxFaf1BMjEy2': 0, 'R6aI4DJL1BMpb32': 0, 'wLE7dqFR1BJyqj5': 1, 'wpQwNEu71BDsFt5': 1, 'wF8LOKYK1BM2lK2': 0, 'rvwmUfvy1BMKFQ5': 0, 'wsVNrKfj1Blyj95': 0, 'rvFrQSud1Bairy5': 1, 'w8wZ4qMpPSP47bK4VDxEGQpu0BhZqI6F': 0, 'Be8W8wmK1AoryF5': 1, 'Zqq4kiwZ1BHlhn5': 0, 'GcSWzfD31BMnHx5': 0, 'QyrNpJ3c1BIsbm5': 1, 'VQPAc4fU1BMnsM5': 0, 'WveDTDYo1B7fzq5': 1, 'ZvCOSJMp1BtQEp5': 1, 'Qxq99yGv1BM8W15': 0, 'WiLPib4d1BHM4i5': 1, 'RQbiQTjg1zP2js5': 0, 'BoM61sf81BMaOc2': 0, 'rj7uNpUo1AYptb5': 1, 'rbDl0jv21BFF9P5': 1, 'vVWPb3qX1BhW3b5': 1, 'wfxtLvAQ1BfwTJ5': 0, 'WHsOkPz31znuPP5': 0, 'G7UrtVrf1BLjwU5': 0, 'vsvJcHps1BMa895': 0, 'wIrXHBfp1BMjAd2': 1, 'VIyR71xD1BMd8a5': 0, 'wjYP4axi1BM4qd5': 1, 'AAgfdGLT1BMtjP2': 0, 'Wa8NlaxK1AGL8U5': 1, 'vwZGeczL1BqGIi5': 1, 'RrVMi5Dn1BMbPI5': 0, 'wGvDZ1Yg1AO8UY5': 0, 'wWqINhws1B7x3m2': 0, 'Av2IYo2q1BoBpX5': 0, 'rpoqhaolyyD7lTxShcyD7NMhFnK2nbDE': 1, 'q8TVfU1W1BDHfh2': 1, 'FXwEz7dc1BsoFr5': 0, 'gCCCz2jp1BCnbg5': 0, 'rwHZJrqP1BI9WP5': 1, 'w4L1PuLh1BlhP35': 0, 'VWLIcFx91AxgcS5': 0, 'wSqk2veHtmQysrvl5EQhHAMYYvnfOCAm': 0, 'Abb3XVgA1AJWYJ5': 0, 'wpfP355c1Bf3EB5': 0, 'G03xcobX1BjAxe5': 1, 'AK4izui51BEttP2': 0, 'WHx2cVDj1BtDPT5': 1, 'B1r5v15v1AOUEL5': 0, 'ALxJlgbJ1BhwXC5': 1, 'WohCfOWQ1BpR7A5': 0, 'VKOJQC0N1ArKdD5': 0, 'zSIKqV4u1BEsgg5': 1, 'QtahjAZT1BMLgW5': 1, 'wC5TUkC01BMNy42': 0, 'AR0hkF421BFyc25': 1, 'W86R0I0S1BMbaI2': 0, 'w9LFyUcR1BgSo35': 1, 'Ww5Zkrkq1Bse0I5': 0, 'VUekcdzn1Blxm35': 0, 'Fyoo0MHQ1BMbhX2': 0, 'qXsUU7HS1AeRrw5': 0, 'VKwgqwUo1BBloW5': 0, 'QZKNh5Zt1BmARD5': 0, 'QtWgMFBJ1BMLDx2': 0, 'QWqdZF2t1AthDN5': 1, 'qvVuVOYc1BFCrR5': 0, 'W3lKJpRu1AdvrA5': 1, 'WvfhW5CW1BKz8T5': 1, 'zNpnHAoN1BMt8o5': 0, 'rKeUzrwj1ByL3k5': 1, 'ZQTeiCIa1BMtIj5': 0, 'qPB2M3Bj1ABQY25': 1, 'fYQfnW0o1Bc9925': 0, 'AnhUAR881BMBQL2': 0, 'FwesrNXp1ABBQT5': 1, 'vsnTQP1D1ATjpF5': 1, 'VtOIbPQ81BM7hW2': 0, 'g9RcvayI1BJvg95': 0, 'ZOibOH801AM1Ad5': 1, 'g53pWO7P1BMaEu2': 0, 'wozRbewM1AI7pc5': 1, 'VGPfVlzt1BIHmY2': 1, 'RSkEBmcm1BBigz5': 1, 'Wf118toT1BMwce2': 0, 'BRJCr8Qh1AyYpL2': 0, 'R01ScwJB1BwgbU2': 0, 'R75QcDlk1BMIuC5': 1, 'G7rpQ4vY1BI6uM2': 1, 'G9NsbmSr1Bxzid5': 0, 'run6Rgjd1BuoAv5': 1, 'wIyaJmf31BMJkm5': 0, 'WrT0B30t1BqF6r5': 1, 'AgBNEbE31BMbPH2': 0, 'ZVu3ehnN1AdoIG5': 0, 'ZUzm137k1BEKiG5': 1, 'Bk4iIqky1Bl3SL2': 1, 'wRUHJZlg1BsVnT5': 1, 'zT1uvMpJ1BMiPN2': 0, 'WaDLKoZE1AikRv5': 1, 'WYfi2sfz1A8F6a5': 1, 'BcdvNylf1BM8GK2': 0, 'BnTRY6YG1BMbbC2': 0, 'wr3T0KE61zvtuZ5': 1, 'FwTVVs8j1AJO1U5': 1, 'WF6VDwWa1BMr3V2': 0, 'vGmvfdmL1BmfEx5': 0, 'Wd7oLTLD1BMaXd2': 0}\n"
     ]
    }
   ],
   "source": [
    "import os, json\n",
    "\n",
    "count_keyword_found = 0;\n",
    "count_keyword_not_found = 0;\n",
    "keyword = 'User Not Found'\n",
    "json_files_path = \"jsons\"\n",
    "\n",
    "present_dict = {}\n",
    "\n",
    "json_files = [json_pos for json_pos in os.listdir(json_files_path) if json_pos.endswith('.json')]\n",
    "#type(json_files)\n",
    "#print(json_files)\n",
    "\n",
    "for js in json_files:\n",
    "    full_filename = js.split('.json')\n",
    "    with open(os.path.join(json_files_path, js)) as one_json_file:\n",
    "        for line in one_json_file.readlines():\n",
    "            json_dict = json.loads(line);\n",
    "            #print(json_dict)\n",
    "            if \"User Not Found\" in json_dict.values():\n",
    "                count_keyword_found += 1;\n",
    "                present_dict[full_filename[0]] = 0\n",
    "                #present_dict['present'] = 0\n",
    "                #print(present_dict)\n",
    "                                \n",
    "            else:\n",
    "                count_keyword_not_found += 1;\n",
    "                present_dict[full_filename[0]] = 1\n",
    "                #present_dict['present'] = 1\n",
    "                \n",
    "print(\"Number of json files which contains keyword User not found are:\", count_keyword_found)\n",
    "print(\"Number of json files which does not contain keyword User not found are:\", count_keyword_not_found)\n",
    "print(present_dict)\n",
    "#print(full_filename[0])\n",
    "#type(full_filename)"
   ]
  },
  {
   "cell_type": "markdown",
   "metadata": {},
   "source": [
    "# Q4\n",
    "\n",
    "# For the same Json files, there is a field, segmentUid which can either start with 0xxxx(lets call them 1st party data) or 1xxxxx (lets call them 3rd party data). For each user, count the number of first party segments and third party segments.\n",
    "# For each user, count the number of first party\n",
    "# segments and third party segments. Points (35\n",
    "# points)\n",
    "# • Hint : {userID: {first:20,third:30}} "
   ]
  },
  {
   "cell_type": "code",
   "execution_count": null,
   "metadata": {
    "collapsed": false
   },
   "outputs": [],
   "source": [
    "import os, json\n",
    "\n",
    "#count_keyword_found = 0;\n",
    "#count_keyword_not_found = 0;\n",
    "cc = 0\n",
    "count = 0\n",
    "keyword = 'User Not Found'\n",
    "json_files_path = \"C:/PYTHON/Lecture-03/jsons\"\n",
    "\n",
    "present_dict = {}\n",
    "cust_segments_dict = {}\n",
    "\n",
    "json_files = [json_pos for json_pos in os.listdir(json_files_path) if json_pos.endswith('.json')]\n",
    "#type(json_files)\n",
    "#print(json_files)\n",
    "\n",
    "for js in json_files:\n",
    "    full_filename = js.split('.json')\n",
    "    with open(os.path.join(json_files_path, js)) as one_json_file:\n",
    "        for line in one_json_file.readlines():\n",
    "            json_dict = json.loads(line);\n",
    "            #print(json_dict)\n",
    "            if 'retargetingSegments' in json_dict:\n",
    "                cust_segments_dict\n",
    "                tempList = []\n",
    "                firstparty = []\n",
    "                thirdparty = []\n",
    "                for segid in json_dict['retargetingSegments']:\n",
    "                    tempList.append(segid['segmentUid'])\n",
    "                    firstparty = [word for word in tempList if word[0] == '0']\n",
    "                    thirdparty = [word for word in tempList if word[0] == '1']\n",
    "                    \n",
    "                    cust_segments_dict['firstParty'] = len(firstparty)\n",
    "                    cust_segments_dict['thirdParty'] = len(thirdparty)\n",
    "                    cc += 1\n",
    "                    present_dict[json_dict['dxId']] = cust_segments_dict\n",
    "                    #print(present_dict)\n",
    "                    \n",
    "            else:\n",
    "                \n",
    "                count += 1\n",
    "                #count_keyword_found += 1;\n",
    "                #present_dict['User_ID'] = full_filename[0]\n",
    "                #present_dict['present'] = 0\n",
    "                #print(present_dict)\n",
    "                                \n",
    "            #else:\n",
    "                #count_keyword_not_found += 1;\n",
    "                #present_dict['User_ID'] = full_filename[0]\n",
    "                #present_dict['present'] = 1\n",
    "            #    print(present_dict)\n",
    "              \n",
    "print(\"Number of json files which contains keyword User not found are:\", count_keyword_found)\n",
    "print(\"Number of json files which does not contain keyword User not found are:\", count_keyword_not_found)\n",
    "print(present_dict)\n",
    "#print(cust_segments_dict)\n",
    "#print(full_filename[0])\n",
    "#type(full_filename)"
   ]
  }
 ],
 "metadata": {
  "kernelspec": {
   "display_name": "Python [Root]",
   "language": "python",
   "name": "Python [Root]"
  },
  "language_info": {
   "codemirror_mode": {
    "name": "ipython",
    "version": 3
   },
   "file_extension": ".py",
   "mimetype": "text/x-python",
   "name": "python",
   "nbconvert_exporter": "python",
   "pygments_lexer": "ipython3",
   "version": "3.5.2"
  }
 },
 "nbformat": 4,
 "nbformat_minor": 0
}
